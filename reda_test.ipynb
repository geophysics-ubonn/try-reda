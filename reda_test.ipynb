{
 "cells": [
  {
   "cell_type": "markdown",
   "metadata": {},
   "source": [
    "# REDA Example Notebook"
   ]
  },
  {
   "cell_type": "markdown",
   "metadata": {},
   "source": [
    "## Setup"
   ]
  },
  {
   "cell_type": "code",
   "execution_count": 1,
   "metadata": {},
   "outputs": [],
   "source": [
    "# In case you want to try the newest version from git.\n",
    "# Please be aware that this may break this notebook\n",
    "# !pip install git+git://github.com/geophysics-ubonn/reda"
   ]
  },
  {
   "cell_type": "code",
   "execution_count": 1,
   "metadata": {},
   "outputs": [],
   "source": [
    "import pandas as pd\n",
    "pd.set_option('display.width', 1000)\n",
    "\n",
    "%matplotlib inline\n",
    "import reda.utils.mpl\n",
    "plt, mpl = reda.utils.mpl.setup()\n",
    "\n",
    "import numpy as np\n",
    "np.random.seed(2017)\n",
    "\n",
    "from glob import glob"
   ]
  },
  {
   "cell_type": "markdown",
   "metadata": {},
   "source": [
    "## Usage of reda"
   ]
  },
  {
   "cell_type": "code",
   "execution_count": 2,
   "metadata": {},
   "outputs": [],
   "source": [
    "# get list of data files\n",
    "data_files = sorted(glob('data/pygimli_*.ohm'))\n",
    "# take only each tenth data file\n",
    "data_files = data_files[0:-1:10]"
   ]
  },
  {
   "cell_type": "code",
   "execution_count": 3,
   "metadata": {},
   "outputs": [
    {
     "name": "stderr",
     "output_type": "stream",
     "text": [
      "2020-12-01 10:47:13,129 - reda.containers.ERT            - %INFO       - Unified data format (BERT/pyGIMLi) file import\n",
      "2020-12-01 10:47:13,253 - reda.containers.ERT            - %INFO       - Data sized changed from 0 to 741\n",
      "2020-12-01 10:47:13,254 - reda.containers.ERT            - %INFO       - Unified data format (BERT/pyGIMLi) file import\n"
     ]
    },
    {
     "name": "stdout",
     "output_type": "stream",
     "text": [
      "Calculating resistance from apparent resistivity and geometric factors. (r = rhoa_ / k)\n",
      "Calculating resistance from apparent resistivity and geometric factors. (r = rhoa_ / k)\n"
     ]
    },
    {
     "name": "stderr",
     "output_type": "stream",
     "text": [
      "2020-12-01 10:47:13,382 - reda.containers.ERT            - %INFO       - Data sized changed from 741 to 1482\n",
      "2020-12-01 10:47:13,382 - reda.containers.ERT            - %INFO       - Unified data format (BERT/pyGIMLi) file import\n",
      "2020-12-01 10:47:13,509 - reda.containers.ERT            - %INFO       - Data sized changed from 1482 to 2223\n",
      "2020-12-01 10:47:13,510 - reda.containers.ERT            - %INFO       - Unified data format (BERT/pyGIMLi) file import\n"
     ]
    },
    {
     "name": "stdout",
     "output_type": "stream",
     "text": [
      "Calculating resistance from apparent resistivity and geometric factors. (r = rhoa_ / k)\n",
      "Calculating resistance from apparent resistivity and geometric factors. (r = rhoa_ / k)\n"
     ]
    },
    {
     "name": "stderr",
     "output_type": "stream",
     "text": [
      "2020-12-01 10:47:13,646 - reda.containers.ERT            - %INFO       - Data sized changed from 2223 to 2964\n",
      "2020-12-01 10:47:13,646 - reda.containers.ERT            - %INFO       - Unified data format (BERT/pyGIMLi) file import\n",
      "2020-12-01 10:47:13,786 - reda.containers.ERT            - %INFO       - Data sized changed from 2964 to 3705\n",
      "2020-12-01 10:47:13,787 - reda.containers.ERT            - %INFO       - Unified data format (BERT/pyGIMLi) file import\n"
     ]
    },
    {
     "name": "stdout",
     "output_type": "stream",
     "text": [
      "Calculating resistance from apparent resistivity and geometric factors. (r = rhoa_ / k)\n",
      "Calculating resistance from apparent resistivity and geometric factors. (r = rhoa_ / k)\n"
     ]
    },
    {
     "name": "stderr",
     "output_type": "stream",
     "text": [
      "2020-12-01 10:47:13,944 - reda.containers.ERT            - %INFO       - Data sized changed from 3705 to 4446\n",
      "2020-12-01 10:47:13,945 - reda.containers.ERT            - %INFO       - Unified data format (BERT/pyGIMLi) file import\n",
      "2020-12-01 10:47:14,105 - reda.containers.ERT            - %INFO       - Data sized changed from 4446 to 5187\n",
      "2020-12-01 10:47:14,105 - reda.containers.ERT            - %INFO       - Unified data format (BERT/pyGIMLi) file import\n"
     ]
    },
    {
     "name": "stdout",
     "output_type": "stream",
     "text": [
      "Calculating resistance from apparent resistivity and geometric factors. (r = rhoa_ / k)\n",
      "Calculating resistance from apparent resistivity and geometric factors. (r = rhoa_ / k)\n"
     ]
    },
    {
     "name": "stderr",
     "output_type": "stream",
     "text": [
      "2020-12-01 10:47:14,272 - reda.containers.ERT            - %INFO       - Data sized changed from 5187 to 5928\n",
      "2020-12-01 10:47:14,273 - reda.containers.ERT            - %INFO       - Unified data format (BERT/pyGIMLi) file import\n",
      "2020-12-01 10:47:14,445 - reda.containers.ERT            - %INFO       - Data sized changed from 5928 to 6669\n",
      "2020-12-01 10:47:14,445 - reda.containers.ERT            - %INFO       - Unified data format (BERT/pyGIMLi) file import\n"
     ]
    },
    {
     "name": "stdout",
     "output_type": "stream",
     "text": [
      "Calculating resistance from apparent resistivity and geometric factors. (r = rhoa_ / k)\n",
      "Calculating resistance from apparent resistivity and geometric factors. (r = rhoa_ / k)\n"
     ]
    },
    {
     "name": "stderr",
     "output_type": "stream",
     "text": [
      "2020-12-01 10:47:14,629 - reda.containers.ERT            - %INFO       - Data sized changed from 6669 to 7410\n"
     ]
    }
   ],
   "source": [
    "from reda import ERT\n",
    "\n",
    "obj = ERT()\n",
    "\n",
    "for nr, filename in enumerate(data_files):\n",
    "    obj.import_bert(filename, timestep=nr)\n",
    "  \n",
    "obj.compute_K_analytical(spacing=1)"
   ]
  },
  {
   "cell_type": "code",
   "execution_count": 4,
   "metadata": {},
   "outputs": [
    {
     "name": "stdout",
     "output_type": "stream",
     "text": [
      "   a  b  m  n  timestep           k          r       rho_a  valid  id norrec  rdiff  rho_adiff   sigma_a\n",
      "0  4  3  1  2         0   18.849556  16.660311  314.039461    1.0   0    nor    NaN        NaN  0.060023\n",
      "1  5  4  1  2         0   75.398224   4.241190  319.778194    1.0   1    nor    NaN        NaN  0.235783\n",
      "2  6  5  1  2         0  188.495559   1.662108  313.299886    1.0   2    nor    NaN        NaN  0.601646\n",
      "3  7  6  1  2         0  376.991118   0.813218  306.575992    1.0   3    nor    NaN        NaN  1.229682\n",
      "4  8  7  1  2         0  659.734457   0.449058  296.259105    1.0   4    nor    NaN        NaN  2.226883\n"
     ]
    }
   ],
   "source": [
    "# hack together reciprocals\n",
    "import pandas as pd\n",
    "data_rec = obj.data.values\n",
    "dfr = pd.DataFrame(\n",
    "    np.hstack((data_rec[:, 2:4], data_rec[:, 0:2], data_rec[:, 4:])),\n",
    "    columns=obj.data.columns\n",
    ")\n",
    "\n",
    "# need to set the data types accordingly\n",
    "for key, dtype in obj.data.dtypes.items():\n",
    "    dfr[key] = dfr[key].astype(dtype)\n",
    "\n",
    "print(dfr.head(5))\n",
    "\n",
    "# add some noise\n",
    "dfr['rho_a'] = dfr['rho_a'] + 0.05 * dfr['rho_a'].values * np.random.randn(dfr.shape[0])\n",
    "obj.data = pd.concat((obj.data, dfr))"
   ]
  },
  {
   "cell_type": "code",
   "execution_count": 5,
   "metadata": {},
   "outputs": [
    {
     "name": "stdout",
     "output_type": "stream",
     "text": [
      "   a  b   m   n  timestep            k          r       rho_a  valid  id norrec  rdiff  rho_adiff    sigma_a\n",
      "0  1  2   4   3         0    18.849556  16.660311  314.039461    1.0   0    nor    NaN        NaN   0.060023\n",
      "1  1  2   5   4         0    75.398224   4.241190  319.778194    1.0   1    nor    NaN        NaN   0.235783\n",
      "2  1  2   6   5         0   188.495559   1.662108  313.299886    1.0   2    nor    NaN        NaN   0.601646\n",
      "3  1  2   7   6         0   376.991118   0.813218  306.575992    1.0   3    nor    NaN        NaN   1.229682\n",
      "4  1  2   8   7         0   659.734457   0.449058  296.259105    1.0   4    nor    NaN        NaN   2.226883\n",
      "5  1  2   9   8         0  1055.575132   0.274267  289.509467    1.0   5    nor    NaN        NaN   3.646082\n",
      "6  1  2  10   9         0  1583.362697   0.178931  283.312170    1.0   6    nor    NaN        NaN   5.588756\n",
      "7  1  2  11  10         0  2261.946711   0.121960  275.867204    1.0   7    nor    NaN        NaN   8.199404\n",
      "8  1  2  12  11         0  3110.176727   0.086760  269.838138    1.0   8    nor    NaN        NaN  11.526083\n",
      "9  1  2  13  12         0  4146.902303   0.063809  264.608515    1.0   9    nor    NaN        NaN  15.671840\n"
     ]
    }
   ],
   "source": [
    "print(obj.data.head(10))"
   ]
  },
  {
   "cell_type": "code",
   "execution_count": 6,
   "metadata": {},
   "outputs": [
    {
     "name": "stdout",
     "output_type": "stream",
     "text": [
      "dict_keys([0, 1, 2, 3, 4, 5, 6, 7, 8, 9])\n"
     ]
    }
   ],
   "source": [
    "# these timesteps where imported\n",
    "print(obj.data.groupby('timestep').groups.keys())"
   ]
  },
  {
   "cell_type": "markdown",
   "metadata": {},
   "source": [
    "## Filtering data"
   ]
  },
  {
   "cell_type": "code",
   "execution_count": 8,
   "metadata": {},
   "outputs": [],
   "source": [
    "# apply to all timesteps\n",
    "# obj.filter('K > 1000')"
   ]
  },
  {
   "cell_type": "code",
   "execution_count": 7,
   "metadata": {},
   "outputs": [
    {
     "name": "stderr",
     "output_type": "stream",
     "text": [
      "2020-12-01 10:47:41,530 - reda.containers.ERT            - %INFO       - Data sized changed from 14820 to 14352\n"
     ]
    }
   ],
   "source": [
    "# apply only to timestep 10\n",
    "obj.sub_filter(\n",
    "    'timestep in [3, 7]',\n",
    "    'a > 10 and a < 20 and k > 1000',    \n",
    ")"
   ]
  },
  {
   "cell_type": "code",
   "execution_count": 8,
   "metadata": {},
   "outputs": [
    {
     "name": "stdout",
     "output_type": "stream",
     "text": [
      "       a   b   m   n  timestep            k         r       rho_a  valid   id norrec  rdiff  rho_adiff     sigma_a\n",
      "2227   1   2   8   7         3   659.734457  0.289292  190.855950    1.0    4    nor    NaN        NaN    3.456714\n",
      "2228   1   2   9   8         3  1055.575132  0.124387  131.299422    1.0    5    nor    NaN        NaN    8.039450\n",
      "2229   1   2  10   9         3  1583.362697  0.053796   85.178704    1.0    6    nor    NaN        NaN   18.588716\n",
      "2230   1   2  11  10         3  2261.946711  0.022858   51.703278    1.0    7    nor    NaN        NaN   43.748613\n",
      "2231   1   2  12  11         3  3110.176727  0.009497   29.537502    1.0    8    nor    NaN        NaN  105.295861\n",
      "...   ..  ..  ..  ..       ...          ...       ...         ...    ...  ...    ...    ...        ...         ...\n",
      "2941  40  39  32  33         3  1055.575132  0.096384  108.581504    1.0  718    nor    NaN        NaN   10.375209\n",
      "2942  41  40  32  33         3  1583.362697  0.047888   75.130456    1.0  719    nor    NaN        NaN   20.882144\n",
      "2947  40  39  33  34         3   659.734457  0.236961  168.410837    1.0  724    nor    NaN        NaN    4.220112\n",
      "2948  41  40  33  34         3  1055.575132  0.114584  122.195106    1.0  725    nor    NaN        NaN    8.727236\n",
      "2953  41  40  34  35         3   659.734457  0.266089  153.880834    1.0  730    nor    NaN        NaN    3.758146\n",
      "\n",
      "[1008 rows x 14 columns]\n"
     ]
    }
   ],
   "source": [
    "print(obj.data.query('timestep == 3 and rho_a < 200'))"
   ]
  },
  {
   "cell_type": "markdown",
   "metadata": {},
   "source": [
    "## Histogram plotting"
   ]
  },
  {
   "cell_type": "code",
   "execution_count": 9,
   "metadata": {},
   "outputs": [
    {
     "data": {
      "text/plain": [
       "a              int64\n",
       "b              int64\n",
       "m              int64\n",
       "n              int64\n",
       "timestep       int64\n",
       "k            float64\n",
       "r            float64\n",
       "rho_a        float64\n",
       "valid        float64\n",
       "id             int64\n",
       "norrec        object\n",
       "rdiff        float64\n",
       "rho_adiff    float64\n",
       "sigma_a      float64\n",
       "dtype: object"
      ]
     },
     "execution_count": 9,
     "metadata": {},
     "output_type": "execute_result"
    }
   ],
   "source": [
    "obj.data.dtypes"
   ]
  },
  {
   "cell_type": "code",
   "execution_count": 12,
   "metadata": {},
   "outputs": [
    {
     "name": "stdout",
     "output_type": "stream",
     "text": [
      "Figure(425.197x141.732)\n"
     ]
    },
    {
     "data": {
      "image/png": "[encoded data removed]",
      "text/plain": [
       "<Figure size 425.197x141.732 with 3 Axes>"
      ]
     },
     "metadata": {
      "needs_background": "light"
     },
     "output_type": "display_data"
    }
   ],
   "source": [
    "import reda.plotters.histograms as RH\n",
    "return_dict = RH.plot_histograms_extra_dims(\n",
    "    obj,\n",
    "    keys=['rho_a', ],\n",
    "    extra_dims=['timestep', ],\n",
    "    Nx=5,\n",
    "    #subquery='timestep in {0}'.format(list(range(0, 100, 10))),\n",
    "    subquery='timestep in [0, 3, 6]'\n",
    ")\n",
    "fig = return_dict[1]['all']\n",
    "print(fig)\n",
    "# print(fig.get_figwidth(), fig.get_figheight())\n",
    "fig.savefig('histogram.png', dpi=300)"
   ]
  },
  {
   "cell_type": "markdown",
   "metadata": {},
   "source": [
    "## Plotting Pseudosections"
   ]
  },
  {
   "cell_type": "code",
   "execution_count": 13,
   "metadata": {},
   "outputs": [
    {
     "data": {
      "image/png": "[encoded data removed]",
      "text/plain": [
       "<Figure size 566.64x282.96 with 6 Axes>"
      ]
     },
     "metadata": {
      "needs_background": "light"
     },
     "output_type": "display_data"
    }
   ],
   "source": [
    "import reda.plotters.pseudoplots as PS\n",
    "fig = PS.plot_ps_extra(\n",
    "    obj, 'rho_a',\n",
    "    subquery='timestep in [0, 3, 6]'\n",
    ")\n",
    "fig.set_size_inches(7.87, 3.93)\n",
    "fig.tight_layout()\n",
    "fig.savefig('pseudoplots.png', dpi=600)"
   ]
  },
  {
   "cell_type": "markdown",
   "metadata": {},
   "source": [
    "## Analyzing time series"
   ]
  },
  {
   "cell_type": "code",
   "execution_count": 14,
   "metadata": {},
   "outputs": [
    {
     "data": {
      "image/png": "[encoded data removed]",
      "text/plain": [
       "<Figure size 566.929x198.425 with 1 Axes>"
      ]
     },
     "metadata": {
      "needs_background": "light"
     },
     "output_type": "display_data"
    }
   ],
   "source": [
    "import reda.plotters.time_series as TS\n",
    "\n",
    "fig, ax = TS.plot_quadpole_evolution(\n",
    "    obj,\n",
    "    [10, 11, 15, 14],\n",
    "    'rho_a',\n",
    "    threshold=0.05,\n",
    "    rolling=False,\n",
    ")"
   ]
  },
  {
   "cell_type": "code",
   "execution_count": 15,
   "metadata": {},
   "outputs": [],
   "source": [
    "# add some noise to the data\n",
    "import numpy as np\n",
    "np.random.seed(2017)\n",
    "obj.data['rho_a'] = obj.data['rho_a'] + (np.abs(obj.data['rho_a'] * 0.05 * np.random.randn(obj.data.shape[0])))"
   ]
  },
  {
   "cell_type": "code",
   "execution_count": 16,
   "metadata": {},
   "outputs": [
    {
     "data": {
      "image/png": "[encoded data removed]",
      "text/plain": [
       "<Figure size 566.929x198.425 with 1 Axes>"
      ]
     },
     "metadata": {
      "needs_background": "light"
     },
     "output_type": "display_data"
    }
   ],
   "source": [
    "fig, ax = TS.plot_quadpole_evolution(\n",
    "    obj,\n",
    "    [10, 11, 15, 14],\n",
    "    'rho_a',\n",
    "    threshold=0.05,\n",
    "    rolling=False,\n",
    ")"
   ]
  },
  {
   "cell_type": "markdown",
   "metadata": {},
   "source": [
    "## The Data Journal"
   ]
  },
  {
   "cell_type": "code",
   "execution_count": 17,
   "metadata": {},
   "outputs": [
    {
     "name": "stdout",
     "output_type": "stream",
     "text": [
      "\n",
      "--- Data Journal Start ---\n",
      "2020-12-01 10:48:34.535947\n",
      "Data was imported from file pygimli_paper_data000.ohm (741 data points)\n",
      "Data was imported from file pygimli_paper_data010.ohm (741 data points)\n",
      "Data was imported from file pygimli_paper_data020.ohm (741 data points)\n",
      "Data was imported from file pygimli_paper_data030.ohm (741 data points)\n",
      "Data was imported from file pygimli_paper_data040.ohm (741 data points)\n",
      "Data was imported from file pygimli_paper_data050.ohm (741 data points)\n",
      "Data was imported from file pygimli_paper_data060.ohm (741 data points)\n",
      "Data was imported from file pygimli_paper_data070.ohm (741 data points)\n",
      "Data was imported from file pygimli_paper_data080.ohm (741 data points)\n",
      "Data was imported from file pygimli_paper_data090.ohm (741 data points)\n",
      "A filter was applied with query \"a > 10 and a < 20 and k > 1000\". In total 468 records were removed\n",
      "--- Data Journal End ---\n",
      "\n"
     ]
    }
   ],
   "source": [
    "obj.print_data_journal()"
   ]
  },
  {
   "cell_type": "code",
   "execution_count": null,
   "metadata": {},
   "outputs": [],
   "source": []
  }
 ],
 "metadata": {
  "kernelspec": {
   "display_name": "Python 3",
   "language": "python",
   "name": "python3"
  },
  "language_info": {
   "codemirror_mode": {
    "name": "ipython",
    "version": 3
   },
   "file_extension": ".py",
   "mimetype": "text/x-python",
   "name": "python",
   "nbconvert_exporter": "python",
   "pygments_lexer": "ipython3",
   "version": "3.7.3"
  }
 },
 "nbformat": 4,
 "nbformat_minor": 2
}
