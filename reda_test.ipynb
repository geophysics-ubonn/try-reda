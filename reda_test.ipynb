{
 "cells": [
  {
   "cell_type": "markdown",
   "metadata": {},
   "source": [
    "# REDA Example Notebook"
   ]
  },
  {
   "cell_type": "code",
   "execution_count": null,
   "metadata": {},
   "outputs": [],
   "source": [
    "# !pip install git+git://github.com/geophysics-ubonn/reda"
   ]
  },
  {
   "cell_type": "code",
   "execution_count": null,
   "metadata": {},
   "outputs": [],
   "source": [
    "%matplotlib inline\n",
    "import reda.utils.mpl\n",
    "plt, mpl = reda.utils.mpl.setup()\n",
    "\n",
    "import numpy as np\n",
    "np.random.seed(2017)\n",
    "\n",
    "from reda import ERT\n",
    "obj = ERT()\n",
    "import glob\n",
    "for nr, filename in enumerate(sorted(\n",
    "        glob.glob('data/pygimli_*.ohm'))):\n",
    "    obj.import_bert(filename, timestep=nr)\n",
    "    \n",
    "obj.compute_K_analytical(spacing=1)"
   ]
  },
  {
   "cell_type": "code",
   "execution_count": null,
   "metadata": {},
   "outputs": [],
   "source": [
    "print(obj.data.head(10))"
   ]
  },
  {
   "cell_type": "markdown",
   "metadata": {},
   "source": [
    "## Filtering data"
   ]
  },
  {
   "cell_type": "code",
   "execution_count": null,
   "metadata": {},
   "outputs": [],
   "source": [
    "# apply to all timesteps\n",
    "# obj.filter('K > 1000')"
   ]
  },
  {
   "cell_type": "code",
   "execution_count": null,
   "metadata": {},
   "outputs": [],
   "source": [
    "# apply only to timestep 10\n",
    "obj.sub_filter(\n",
    "    'timestep == 10',\n",
    "    'K > 1000',    \n",
    ")"
   ]
  },
  {
   "cell_type": "code",
   "execution_count": null,
   "metadata": {},
   "outputs": [],
   "source": [
    "print(obj.data.query('timestep == 10 and rho_a < 200'))"
   ]
  },
  {
   "cell_type": "markdown",
   "metadata": {},
   "source": [
    "## Histogram plotting"
   ]
  },
  {
   "cell_type": "code",
   "execution_count": null,
   "metadata": {},
   "outputs": [],
   "source": [
    "import reda.plotters.histograms as RH\n",
    "fig = RH.plot_histograms_extra_dims(\n",
    "    obj,\n",
    "    keys=['rho_a'],\n",
    "    extra_dims=['timestep', ],\n",
    "    Nx=5,\n",
    "    #subquery='timestep in {0}'.format(list(range(0, 100, 10))),\n",
    "    subquery='timestep in [0, 10, 20, 30, 40, 50, 60, 70, 80, 90]'\n",
    ")\n",
    "print(fig.get_figwidth(), fig.get_figheight())\n",
    "fig.savefig('histogram.png', dpi=600)"
   ]
  },
  {
   "cell_type": "markdown",
   "metadata": {},
   "source": [
    "## Plotting Pseudosections"
   ]
  },
  {
   "cell_type": "code",
   "execution_count": null,
   "metadata": {},
   "outputs": [],
   "source": [
    "import reda.plotters.pseudoplots as PS\n",
    "fig = PS.plot_ps_extra(\n",
    "    obj, 'rho_a',\n",
    "    subquery='timestep in [0, 10, 20, 30, 40, 50, 60, 70, 80, 90]'\n",
    ")\n",
    "fig.set_size_inches(7.87, 3.93)\n",
    "fig.tight_layout()\n",
    "fig.savefig('pseudoplots.png', dpi=600)"
   ]
  },
  {
   "cell_type": "markdown",
   "metadata": {},
   "source": [
    "## Analyzing time series"
   ]
  },
  {
   "cell_type": "code",
   "execution_count": null,
   "metadata": {},
   "outputs": [],
   "source": [
    "import reda.plotters.time_series as TS\n",
    "\n",
    "fig, ax = TS.plot_quadpole_evolution(\n",
    "    obj,\n",
    "    [10, 11, 15, 14],\n",
    "    'rho_a',\n",
    "    threshold=0.05,\n",
    "    rolling=True,\n",
    ")"
   ]
  },
  {
   "cell_type": "code",
   "execution_count": null,
   "metadata": {},
   "outputs": [],
   "source": [
    "# add some noise to the data\n",
    "import numpy as np\n",
    "np.random.seed(2017)\n",
    "obj.data['rho_a'] = obj.data['rho_a'] + (np.abs(obj.data['rho_a'] * 0.05 * np.random.randn(obj.data.shape[0])))"
   ]
  },
  {
   "cell_type": "code",
   "execution_count": null,
   "metadata": {},
   "outputs": [],
   "source": [
    "fig, ax = TS.plot_quadpole_evolution(\n",
    "    obj,\n",
    "    [10, 11, 15, 14],\n",
    "    'rho_a',\n",
    "    threshold=0.05,\n",
    "    rolling=True,\n",
    ")"
   ]
  },
  {
   "cell_type": "markdown",
   "metadata": {},
   "source": [
    "## The Data Journal"
   ]
  },
  {
   "cell_type": "code",
   "execution_count": null,
   "metadata": {},
   "outputs": [],
   "source": [
    "obj.print_data_journal()"
   ]
  }
 ],
 "metadata": {
  "kernelspec": {
   "display_name": "Python 3",
   "language": "python",
   "name": "python3"
  },
  "language_info": {
   "codemirror_mode": {
    "name": "ipython",
    "version": 3
   },
   "file_extension": ".py",
   "mimetype": "text/x-python",
   "name": "python",
   "nbconvert_exporter": "python",
   "pygments_lexer": "ipython3",
   "version": "3.4.2"
  }
 },
 "nbformat": 4,
 "nbformat_minor": 2
}
